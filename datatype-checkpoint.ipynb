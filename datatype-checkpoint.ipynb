{
 "cells": [
  {
   "cell_type": "code",
   "execution_count": 1,
   "metadata": {},
   "outputs": [
    {
     "name": "stdout",
     "output_type": "stream",
     "text": [
      "Enter your salary:25000\n",
      "Enter your bonus:250\n",
      "25250.0\n"
     ]
    }
   ],
   "source": [
    "salary=input(\"Enter your salary:\")\n",
    "bonus=input(\"Enter your bonus:\")\n",
    "totalAmount=float(salary)+float(bonus) #converting salary and bonus from String to Float\n",
    "print(totalAmount)"
   ]
  },
  {
   "cell_type": "code",
   "execution_count": null,
   "metadata": {
    "collapsed": true
   },
   "outputs": [],
   "source": [
    "userName=input(\"Enter your name:\")\n",
    "L=input(\"Enter your loan amount:\") #Loan Amount\n",
    "i=0.05                             #interest amount\n",
    "n=input(\"Enter number of years:\")  #No. of years\n",
    "\n",
    "M=float(L)*[i(1+i)*int(n)]/[(1+i)int(n)-1]  #Monthly Payments\n",
    "print(M)\n"
   ]
  }
 ],
 "metadata": {
  "kernelspec": {
   "display_name": "Python 3",
   "language": "python",
   "name": "python3"
  },
  "language_info": {
   "codemirror_mode": {
    "name": "ipython",
    "version": 3
   },
   "file_extension": ".py",
   "mimetype": "text/x-python",
   "name": "python",
   "nbconvert_exporter": "python",
   "pygments_lexer": "ipython3",
   "version": "3.6.3"
  }
 },
 "nbformat": 4,
 "nbformat_minor": 2
}
