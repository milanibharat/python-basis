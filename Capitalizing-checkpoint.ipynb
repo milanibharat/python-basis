{
 "cells": [
  {
   "cell_type": "code",
   "execution_count": 2,
   "metadata": {},
   "outputs": [
    {
     "name": "stdout",
     "output_type": "stream",
     "text": [
      "Welcome to Python Mr.Bharat Milani\n"
     ]
    }
   ],
   "source": [
    "#To have first letter of first name and last name in Capital and other letters in lowercase\n",
    "First_name=\"bharat\"\n",
    "Last_name=\"milani\"\n",
    "print(\"Welcome to Python Mr.\" +First_name.capitalize() + \" \" + Last_name.capitalize())"
   ]
  }
 ],
 "metadata": {
  "kernelspec": {
   "display_name": "Python 3",
   "language": "python",
   "name": "python3"
  },
  "language_info": {
   "codemirror_mode": {
    "name": "ipython",
    "version": 3
   },
   "file_extension": ".py",
   "mimetype": "text/x-python",
   "name": "python",
   "nbconvert_exporter": "python",
   "pygments_lexer": "ipython3",
   "version": "3.6.3"
  }
 },
 "nbformat": 4,
 "nbformat_minor": 2
}
