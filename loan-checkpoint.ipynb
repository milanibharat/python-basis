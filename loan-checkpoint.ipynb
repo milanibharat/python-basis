{
 "cells": [
  {
   "cell_type": "code",
   "execution_count": 28,
   "metadata": {},
   "outputs": [
    {
     "name": "stdout",
     "output_type": "stream",
     "text": [
      "Enter your loan amount:1000\n",
      "Enter number of years:2\n",
      "Monthly payment=285.714286\n"
     ]
    }
   ],
   "source": [
    "L=int(input(\"Enter your loan amount:\"))  #Loan Amount converting into int\n",
    "i=0.05                                     #interest amount\n",
    "n=int(input(\"Enter number of years:\"))     #No. of years\n",
    "\n",
    "M = L*(i*(1+n)*n / ((1+i)*(n-1)))   #Monthly Payments\n",
    "print(\"Monthly payment=%f\" %M)"
   ]
  }
 ],
 "metadata": {
  "kernelspec": {
   "display_name": "Python 3",
   "language": "python",
   "name": "python3"
  },
  "language_info": {
   "codemirror_mode": {
    "name": "ipython",
    "version": 3
   },
   "file_extension": ".py",
   "mimetype": "text/x-python",
   "name": "python",
   "nbconvert_exporter": "python",
   "pygments_lexer": "ipython3",
   "version": "3.6.3"
  }
 },
 "nbformat": 4,
 "nbformat_minor": 2
}
