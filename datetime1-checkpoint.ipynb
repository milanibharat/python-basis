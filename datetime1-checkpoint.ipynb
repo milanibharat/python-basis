{
 "cells": [
  {
   "cell_type": "code",
   "execution_count": 8,
   "metadata": {},
   "outputs": [
    {
     "name": "stdout",
     "output_type": "stream",
     "text": [
      "Enter your Birtday(DD/MM/YYYY):25/03/2019\n",
      "2019-03-25\n",
      "313 days, 0:00:00\n"
     ]
    }
   ],
   "source": [
    "#To know how many days left on user's birthday\n",
    "import datetime\n",
    "currentDate=datetime.date.today()\n",
    "User=input(\"Enter your Birtday(DD/MM/YYYY):\")\n",
    "birthdate=datetime.datetime.strptime(User,'%d/%m/%Y').date()\n",
    "print(birthdate)\n",
    "days=birthdate-currentDate\n",
    "print(days)"
   ]
  }
 ],
 "metadata": {
  "kernelspec": {
   "display_name": "Python 3",
   "language": "python",
   "name": "python3"
  },
  "language_info": {
   "codemirror_mode": {
    "name": "ipython",
    "version": 3
   },
   "file_extension": ".py",
   "mimetype": "text/x-python",
   "name": "python",
   "nbconvert_exporter": "python",
   "pygments_lexer": "ipython3",
   "version": "3.6.3"
  }
 },
 "nbformat": 4,
 "nbformat_minor": 2
}
